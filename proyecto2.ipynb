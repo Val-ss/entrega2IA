{
 "cells": [
  {
   "cell_type": "markdown",
   "id": "e9812976",
   "metadata": {},
   "source": [
    "Aplicacion de tecnicas avanzadas de prompting:"
   ]
  },
  {
   "cell_type": "code",
   "execution_count": null,
   "id": "95bbd0ed",
   "metadata": {
    "vscode": {
     "languageId": "plaintext"
    }
   },
   "outputs": [],
   "source": [
    "Zero shot prompt\n",
    "organiza mi dia con 3 horas de estudio y 6 de trabajo.\n",
    "🌞 Mañana\n",
    "08:00 – 09:00 → Desayuno tranquilo + repaso rápido de pendientes.\n",
    "09:00 – 12:00 → 🧑‍💻 Trabajo (bloque de concentración).\n",
    "🌤 Mediodía\n",
    "12:00 – 12:30 → Descanso corto (caminar, estirarte, tomar aire).\n",
    "12:30 – 15:00 → 🧑‍💻 Trabajo (segundo bloque).\n",
    "🌙 Tarde\n",
    "15:00 – 16:00 → Almuerzo + pausa real.\n",
    "16:00 – 19:00 → 📚 Estudio (3 horas seguidas, con mini-pausas cada 50 min).\n",
    "🌆 Noche\n",
    "19:00 – 20:00 → 🧑‍💻 Última hora de trabajo (cerrar pendientes).\n",
    "20:00 – 21:00 → Cena + relax.\n",
    "21:00 en adelante → Tiempo personal (ocio, lectura ligera, series, etc.).\n",
    "👉 Así completas 6 horas de trabajo y 3 horas de estudio de manera ordenada, evitando sobrecargas.\n",
    " Si prefieres, también puedo armarlo dividiendo el estudio en 2 bloques (mañana y tarde) para que no se concentre todo de corrido.\n",
    "¿Quieres que te lo organice en ese formato también (estudio dividido en 2 tandas)?"
   ]
  },
  {
   "cell_type": "code",
   "execution_count": null,
   "id": "e6d0821a",
   "metadata": {
    "vscode": {
     "languageId": "plaintext"
    }
   },
   "outputs": [],
   "source": [
    "One shot prompt\n",
    "toma en cuenta el siguiente ejemplo: una persona trabaja por la mañana 6 horas y luego estudia 3 horas por la tarde. Ahora necesito que me organices los siguientes horarios: una persona trabaja 4 horas por la noche y estudia 5 horas en el día.\n",
    "Perfecto 🙌 Gracias por el ejemplo, me queda clarísimo el estilo de organización que quieres.\n",
    " Si la persona trabaja 4 horas de noche y estudia 5 horas de día, aquí te dejo una propuesta equilibrada 👇\n",
    "🌞 Día (Estudio 5 horas)\n",
    "09:00 – 12:00 → 📚 Estudio (3 horas seguidas con pausas cortas).\n",
    "12:00 – 13:00 → Almuerzo + descanso.\n",
    "13:00 – 15:00 → 📚 Estudio (2 horas).\n",
    "🌤 Tarde / Inicio de noche (Descanso + rutina personal)\n",
    "15:00 – 18:00 → Tiempo personal, ejercicio, siesta corta o actividades livianas.\n",
    "18:00 – 20:00 → Cena ligera + preparación para el trabajo.\n",
    "🌙 Noche (Trabajo 4 horas)\n",
    "20:00 – 00:00 → 🧑‍💻 Trabajo (bloque de 4 horas).\n",
    "🌌 Madrugada\n",
    "00:00 – 08:00 → Descanso (sueño).\n",
    "De esta forma la persona:\n",
    " ✅ Cumple 5 horas de estudio en el día.\n",
    " ✅ Realiza 4 horas de trabajo en la noche.\n",
    " ✅ Mantiene tiempos de descanso, comidas y sueño equilibrados."
   ]
  },
  {
   "cell_type": "code",
   "execution_count": null,
   "id": "d45834d2",
   "metadata": {
    "vscode": {
     "languageId": "plaintext"
    }
   },
   "outputs": [],
   "source": [
    "Few shot prompt\n",
    "te voy a dar unos ejemplos: 1- 2 horas de estudio, 5 horas de trabajo: por la mañana: estudio, en la tarde: trabajo, 2) 4 horas de trabajo, 1 hora de ejercicio: de mañana: trabajo, por la noche: ejercicio, 3) 3 horas de estudio, 2 horas de recreación: en la mañana: estudio, a la tarde: recreación. Organizame el siguiente caso: 3 horas de estudio, 4 de horas trabajo y 1 hora de ejercicio\n",
    "¡Genial! Siguiendo exactamente el estilo de tus ejemplos, el caso quedaría así:\n",
    "3 horas de estudio, 4 horas de trabajo y 1 hora de ejercicio:\n",
    " 👉 en la mañana: estudio\n",
    " 👉 a la tarde: trabajo\n",
    " 👉 por la noche: ejercicio"
   ]
  }
 ],
 "metadata": {
  "language_info": {
   "name": "python"
  }
 },
 "nbformat": 4,
 "nbformat_minor": 5
}
